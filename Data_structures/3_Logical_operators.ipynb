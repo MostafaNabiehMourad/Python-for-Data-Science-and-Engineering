{
  "nbformat": 4,
  "nbformat_minor": 0,
  "metadata": {
    "colab": {
      "provenance": []
    },
    "kernelspec": {
      "name": "python3",
      "display_name": "Python 3"
    },
    "language_info": {
      "name": "python"
    }
  },
  "cells": [
    {
      "cell_type": "markdown",
      "metadata": {
        "id": "1TATJBcnCUWD"
      },
      "source": [
        "## Logical operators\n"
      ]
    },
    {
      "cell_type": "markdown",
      "metadata": {
        "id": "bQSHl6q2CUWD"
      },
      "source": [
        "Sometimes you want to check more than one condition at once. For example, you might want to check if one condition and another condition are both **True**. Logical operators allow you to combine or modify conditions.\n",
        "\n",
        "<ul>\n",
        "    <li><code>and</code></li>\n",
        "    <li><code>or</code></li>\n",
        "    <li><code>not</code></li>\n",
        "</ul>\n",
        "\n",
        "These operators are summarized for two variables using the following truth tables:\n"
      ]
    },
    {
      "cell_type": "markdown",
      "metadata": {
        "id": "PGHnItFICUWD"
      },
      "source": [
        "<img src=\"https://cf-courses-data.s3.us.cloud-object-storage.appdomain.cloud/IBMDeveloperSkillsNetwork-PY0101EN-SkillsNetwork/labs/Module%203/images/CondsTable.png\" width=\"650\" />\n"
      ]
    },
    {
      "cell_type": "markdown",
      "metadata": {
        "id": "7ajxPsIOCUWD"
      },
      "source": [
        "The <code>and</code> statement is only **True** when both conditions are true. The <code>or</code> statement is True if one condition, or both are **True**. The <code>not</code> statement outputs the opposite truth value.\n"
      ]
    },
    {
      "cell_type": "markdown",
      "metadata": {
        "id": "f9uxhSl6CUWD"
      },
      "source": [
        "Let's see how to determine if an album was released after 1979 (1979 is not included) and before 1990 (1990 is not included). The time periods between 1980 and 1989 satisfy this condition. This is demonstrated in the figure below. The green on lines <strong>a</strong> and <strong>b</strong> represents periods where the statement is **True**. The green on line <strong>c</strong> represents where both conditions are **True**, this corresponds to where the green regions overlap.\n"
      ]
    },
    {
      "cell_type": "markdown",
      "metadata": {
        "id": "uBVxGr9NCUWD"
      },
      "source": [
        "<img src=\"https://cf-courses-data.s3.us.cloud-object-storage.appdomain.cloud/IBMDeveloperSkillsNetwork-PY0101EN-SkillsNetwork/labs/Module%203/images/CondsEgOne.png\" width=\"650\" />\n"
      ]
    },
    {
      "cell_type": "markdown",
      "metadata": {
        "id": "qrKS0Sv_CUWD"
      },
      "source": [
        "The block of code to perform this check is given by:\n"
      ]
    },
    {
      "cell_type": "code",
      "execution_count": null,
      "metadata": {
        "id": "IWDl4qkQCUWD"
      },
      "outputs": [],
      "source": [
        "# Condition statement example\n",
        "\n",
        "album_year = 1980\n",
        "\n",
        "if(album_year > 1979) and (album_year < 1990):\n",
        "    print (\"Album year was in between 1980 and 1989\")\n",
        "    \n",
        "print(\"\")\n",
        "print(\"Do Stuff..\")"
      ]
    },
    {
      "cell_type": "markdown",
      "metadata": {
        "id": "3G200XM0CUWE"
      },
      "source": [
        "To determine if an album was released before 1980 (1979 and earlier) or after 1989 (1990 and onward ), an or statement can be used. Periods before 1980 (1979 and earlier) or after 1989 (1990 and onward) satisfy this condition. This is demonstrated in the following figure, the color green in <strong>a</strong> and <strong>b</strong> represents periods where the statement is true. The color green in **c** represents where at least one of the conditions\n",
        "are true.\n"
      ]
    },
    {
      "cell_type": "markdown",
      "metadata": {
        "id": "cwfkHQ6qCUWE"
      },
      "source": [
        "<img src=\"https://cf-courses-data.s3.us.cloud-object-storage.appdomain.cloud/IBMDeveloperSkillsNetwork-PY0101EN-SkillsNetwork/labs/Module%203/images/CondsEgTwo.png\" width=\"650\" />\n"
      ]
    },
    {
      "cell_type": "markdown",
      "metadata": {
        "id": "Fj_NgZIxCUWE"
      },
      "source": [
        "The block of code to perform this check is given by:\n"
      ]
    },
    {
      "cell_type": "code",
      "execution_count": null,
      "metadata": {
        "id": "rTzalnbiCUWE"
      },
      "outputs": [],
      "source": [
        "# Condition statement example\n",
        "\n",
        "album_year = 1990\n",
        "\n",
        "if(album_year < 1980) or (album_year > 1989):\n",
        "    print (\"Album was not made in the 1980's\")\n",
        "else:\n",
        "    print(\"The Album was made in the 1980's \")"
      ]
    },
    {
      "cell_type": "markdown",
      "metadata": {
        "id": "MKrwFWqzCUWE"
      },
      "source": [
        "The <code>not</code> statement checks if the statement is false:\n"
      ]
    },
    {
      "cell_type": "code",
      "execution_count": null,
      "metadata": {
        "id": "k-KKY0LkCUWE"
      },
      "outputs": [],
      "source": [
        "# Condition statement example\n",
        "\n",
        "album_year = 1983\n",
        "\n",
        "if not (album_year == 1984):\n",
        "    print (\"Album year is not 1984\")"
      ]
    }
  ]
}