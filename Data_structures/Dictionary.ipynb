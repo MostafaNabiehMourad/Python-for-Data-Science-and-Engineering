{
  "nbformat": 4,
  "nbformat_minor": 0,
  "metadata": {
    "colab": {
      "provenance": []
    },
    "kernelspec": {
      "name": "python3",
      "display_name": "Python 3"
    },
    "language_info": {
      "name": "python"
    }
  },
  "cells": [
    {
      "cell_type": "markdown",
      "metadata": {
        "id": "VnQ4kIKdIJp_"
      },
      "source": [
        "## Dictionaries\n"
      ]
    },
    {
      "cell_type": "markdown",
      "metadata": {
        "id": "Fzl9N1DyIJp_"
      },
      "source": [
        "### What are Dictionaries?\n"
      ]
    },
    {
      "cell_type": "markdown",
      "metadata": {
        "id": "gnjUrMPRIJp_"
      },
      "source": [
        "A dictionary consists of keys and values. It is helpful to compare a dictionary to a list. Instead of being indexed numerically like a list, dictionaries have keys. These keys are the keys that are used to access values within a dictionary.\n"
      ]
    },
    {
      "cell_type": "markdown",
      "metadata": {
        "id": "a__TQ8qYIJqA"
      },
      "source": [
        "<img src=\"https://cf-courses-data.s3.us.cloud-object-storage.appdomain.cloud/IBMDeveloperSkillsNetwork-PY0101EN-SkillsNetwork/labs/Module%202/images/DictsList.png\" width=\"650\" />\n"
      ]
    },
    {
      "cell_type": "markdown",
      "metadata": {
        "id": "MlRRvuWsIJqA"
      },
      "source": [
        "An example of a Dictionary <code>Dict</code>:\n"
      ]
    },
    {
      "cell_type": "code",
      "execution_count": null,
      "metadata": {
        "jupyter": {
          "outputs_hidden": false
        },
        "id": "2tPijCu9IJqA"
      },
      "outputs": [],
      "source": [
        "# Create the dictionary\n",
        "\n",
        "Dict = {\"key1\": 1, \"key2\": \"2\", \"key3\": [3, 3, 3], \"key4\": (4, 4, 4), ('key5'): 5, (0, 1): 6}\n",
        "Dict"
      ]
    },
    {
      "cell_type": "markdown",
      "metadata": {
        "id": "_YAXi9Y_IJqB"
      },
      "source": [
        "The keys can be strings:\n"
      ]
    },
    {
      "cell_type": "code",
      "execution_count": null,
      "metadata": {
        "jupyter": {
          "outputs_hidden": false
        },
        "id": "iL78dQ8_IJqC"
      },
      "outputs": [],
      "source": [
        "# Access to the value by the key\n",
        "\n",
        "Dict[\"key1\"]"
      ]
    },
    {
      "cell_type": "markdown",
      "metadata": {
        "id": "lCUYQDbeIJqC"
      },
      "source": [
        "Keys can also be any immutable object such as a tuple:\n"
      ]
    },
    {
      "cell_type": "code",
      "execution_count": null,
      "metadata": {
        "jupyter": {
          "outputs_hidden": false
        },
        "id": "HrMR5xHpIJqC"
      },
      "outputs": [],
      "source": [
        "# Access to the value by the key\n",
        "\n",
        "Dict[(0, 1)]"
      ]
    },
    {
      "cell_type": "markdown",
      "metadata": {
        "id": "CnQBq-XoIJqC"
      },
      "source": [
        "Each key is separated from its value by a colon \"<code>:</code>\".  Commas separate the items, and the whole dictionary is enclosed in curly braces. An empty dictionary without any items is written with just two curly braces, like this  \"<code>{}</code>\".\n"
      ]
    },
    {
      "cell_type": "code",
      "execution_count": null,
      "metadata": {
        "jupyter": {
          "outputs_hidden": false
        },
        "id": "oPS-w6OxIJqD"
      },
      "outputs": [],
      "source": [
        "# Create a sample dictionary\n",
        "\n",
        "release_year_dict = {\"Thriller\": \"1982\", \"Back in Black\": \"1980\", \\\n",
        "                    \"The Dark Side of the Moon\": \"1973\", \"The Bodyguard\": \"1992\", \\\n",
        "                    \"Bat Out of Hell\": \"1977\", \"Their Greatest Hits (1971-1975)\": \"1976\", \\\n",
        "                    \"Saturday Night Fever\": \"1977\", \"Rumours\": \"1977\"}\n",
        "release_year_dict"
      ]
    },
    {
      "cell_type": "markdown",
      "metadata": {
        "id": "XJwMF_rsIJqD"
      },
      "source": [
        "In summary, like a list, a dictionary holds a sequence of elements. Each element is represented by a key and its corresponding value. Dictionaries are created with two curly braces containing keys and values separated by a colon. For every key, there can only be one single value, however,  multiple keys can hold the same value. Keys can only be strings, numbers, or tuples, but values can be any data type.\n"
      ]
    },
    {
      "cell_type": "markdown",
      "metadata": {
        "id": "egyi28WsIJqD"
      },
      "source": [
        "It is helpful to visualize the dictionary as a table, as in the following image. The first column represents the keys, the second column represents the values.\n"
      ]
    },
    {
      "cell_type": "markdown",
      "metadata": {
        "id": "Qgwk1aPZIJqD"
      },
      "source": [
        "<img src=\"https://cf-courses-data.s3.us.cloud-object-storage.appdomain.cloud/IBMDeveloperSkillsNetwork-PY0101EN-SkillsNetwork/labs/Module%202/images/DictsStructure.png\" width=\"650\" />\n"
      ]
    },
    {
      "cell_type": "markdown",
      "metadata": {
        "id": "jFjuNkTrIJqE"
      },
      "source": [
        "### Keys\n"
      ]
    },
    {
      "cell_type": "markdown",
      "metadata": {
        "id": "Gej_rh96IJqE"
      },
      "source": [
        "You can retrieve the values based on the names:\n"
      ]
    },
    {
      "cell_type": "code",
      "execution_count": null,
      "metadata": {
        "jupyter": {
          "outputs_hidden": false
        },
        "id": "PowjmCPgIJqE"
      },
      "outputs": [],
      "source": [
        "# Get value by keys\n",
        "\n",
        "release_year_dict['Thriller'] "
      ]
    },
    {
      "cell_type": "markdown",
      "metadata": {
        "id": "f8rqT4f6IJqE"
      },
      "source": [
        "This corresponds to:\n"
      ]
    },
    {
      "cell_type": "markdown",
      "metadata": {
        "id": "jjSIGtA4IJqE"
      },
      "source": [
        "<img src=\"https://cf-courses-data.s3.us.cloud-object-storage.appdomain.cloud/IBMDeveloperSkillsNetwork-PY0101EN-SkillsNetwork/labs/Module%202/images/DictsKeyOne.png\" width=\"500\" />\n"
      ]
    },
    {
      "cell_type": "markdown",
      "metadata": {
        "id": "NnqgJUDjIJqF"
      },
      "source": [
        "Similarly for <b>The Bodyguard</b>\n"
      ]
    },
    {
      "cell_type": "code",
      "execution_count": null,
      "metadata": {
        "jupyter": {
          "outputs_hidden": false
        },
        "id": "rmbShCrYIJqF"
      },
      "outputs": [],
      "source": [
        "# Get value by key\n",
        "\n",
        "release_year_dict['The Bodyguard'] "
      ]
    },
    {
      "cell_type": "markdown",
      "metadata": {
        "id": "EAFLQ5_4IJqF"
      },
      "source": [
        "<img src=\"https://cf-courses-data.s3.us.cloud-object-storage.appdomain.cloud/IBMDeveloperSkillsNetwork-PY0101EN-SkillsNetwork/labs/Module%202/images/DictsKeyTwo.png\" width=\"500\" />\n"
      ]
    },
    {
      "cell_type": "markdown",
      "metadata": {
        "id": "go8ZjMm5IJqF"
      },
      "source": [
        "Now let us retrieve the keys of the dictionary using the method <code>keys()</code>:\n"
      ]
    },
    {
      "cell_type": "code",
      "execution_count": null,
      "metadata": {
        "jupyter": {
          "outputs_hidden": false
        },
        "id": "LppERoYjIJqF"
      },
      "outputs": [],
      "source": [
        "# Get all the keys in dictionary\n",
        "\n",
        "release_year_dict.keys() "
      ]
    },
    {
      "cell_type": "markdown",
      "metadata": {
        "id": "OoSSMWoVIJqF"
      },
      "source": [
        "You can retrieve the values using the method  <code>values()</code>:\n"
      ]
    },
    {
      "cell_type": "code",
      "execution_count": null,
      "metadata": {
        "jupyter": {
          "outputs_hidden": false
        },
        "id": "S5IHhaBeIJqF"
      },
      "outputs": [],
      "source": [
        "# Get all the values in dictionary\n",
        "\n",
        "release_year_dict.values() "
      ]
    },
    {
      "cell_type": "markdown",
      "metadata": {
        "id": "m5qe9fv6IJqG"
      },
      "source": [
        "We can add an entry:\n"
      ]
    },
    {
      "cell_type": "code",
      "execution_count": null,
      "metadata": {
        "jupyter": {
          "outputs_hidden": false
        },
        "id": "ggx5gVLmIJqG"
      },
      "outputs": [],
      "source": [
        "# Append value with key into dictionary\n",
        "\n",
        "release_year_dict['Graduation'] = '2007'\n",
        "release_year_dict"
      ]
    },
    {
      "cell_type": "markdown",
      "metadata": {
        "id": "vFw4TxBwIJqG"
      },
      "source": [
        "We can delete an entry:\n"
      ]
    },
    {
      "cell_type": "code",
      "execution_count": null,
      "metadata": {
        "jupyter": {
          "outputs_hidden": false
        },
        "id": "GLvvCxxCIJqG"
      },
      "outputs": [],
      "source": [
        "# Delete entries by key\n",
        "\n",
        "del(release_year_dict['Thriller'])\n",
        "del(release_year_dict['Graduation'])\n",
        "release_year_dict"
      ]
    },
    {
      "cell_type": "markdown",
      "metadata": {
        "id": "uBI07NA1IJqG"
      },
      "source": [
        "We can verify if an element is in the dictionary:\n"
      ]
    },
    {
      "cell_type": "code",
      "execution_count": null,
      "metadata": {
        "jupyter": {
          "outputs_hidden": false
        },
        "id": "eE-LnZ-ZIJqG"
      },
      "outputs": [],
      "source": [
        "# Verify the key is in the dictionary\n",
        "\n",
        "'The Bodyguard' in release_year_dict"
      ]
    },
    {
      "cell_type": "markdown",
      "metadata": {
        "id": "L3lpycewIJqG"
      },
      "source": [
        "<hr>\n"
      ]
    }
  ]
}