{
  "nbformat": 4,
  "nbformat_minor": 0,
  "metadata": {
    "colab": {
      "provenance": []
    },
    "kernelspec": {
      "name": "python3",
      "display_name": "Python 3"
    },
    "language_info": {
      "name": "python"
    }
  },
  "cells": [
    {
      "cell_type": "markdown",
      "metadata": {
        "id": "gdrK0nRTHtU5"
      },
      "source": [
        "## Sets\n"
      ]
    },
    {
      "cell_type": "markdown",
      "metadata": {
        "id": "mFrmmAtZHtU5"
      },
      "source": [
        "### Set Content"
      ]
    },
    {
      "cell_type": "markdown",
      "metadata": {
        "id": "3UYF43EGHtU5"
      },
      "source": [
        "A set is a unique collection of objects in Python. You can denote a set with a pair of curly brackets <b>{}</b>. Python will automatically remove duplicate items:\n"
      ]
    },
    {
      "cell_type": "code",
      "execution_count": null,
      "metadata": {
        "id": "8rQrydHaHtU6"
      },
      "outputs": [],
      "source": [
        "# Create a set\n",
        "\n",
        "set1 = {\"pop\", \"rock\", \"soul\", \"hard rock\", \"rock\", \"R&B\", \"rock\", \"disco\"}\n",
        "set1"
      ]
    },
    {
      "cell_type": "markdown",
      "metadata": {
        "id": "VCp2JhiXHtU6"
      },
      "source": [
        "The process of mapping is illustrated in the figure:\n"
      ]
    },
    {
      "cell_type": "markdown",
      "metadata": {
        "id": "C-YnEZIcHtU7"
      },
      "source": [
        "<img src=\"https://cf-courses-data.s3.us.cloud-object-storage.appdomain.cloud/IBMDeveloperSkillsNetwork-PY0101EN-SkillsNetwork/labs/Module%202/images/SetsUnique.png\" width=\"1100\" />\n"
      ]
    },
    {
      "cell_type": "markdown",
      "metadata": {
        "id": "0MtTznYMHtU7"
      },
      "source": [
        "You can also  create a set from a list as follows:\n"
      ]
    },
    {
      "cell_type": "code",
      "execution_count": null,
      "metadata": {
        "scrolled": true,
        "id": "89pHHE9fHtU7"
      },
      "outputs": [],
      "source": [
        "# Convert list to set\n",
        "\n",
        "album_list = [ \"Michael Jackson\", \"Thriller\", 1982, \"00:42:19\", \\\n",
        "              \"Pop, Rock, R&B\", 46.0, 65, \"30-Nov-82\", None, 10.0]\n",
        "album_set = set(album_list)             \n",
        "album_set"
      ]
    },
    {
      "cell_type": "markdown",
      "metadata": {
        "id": "B54PVeNgHtU8"
      },
      "source": [
        "Now let us create a set of  genres:\n"
      ]
    },
    {
      "cell_type": "code",
      "execution_count": null,
      "metadata": {
        "id": "GOokVoG5HtU8"
      },
      "outputs": [],
      "source": [
        "# Convert list to set\n",
        "\n",
        "music_genres = set([\"pop\", \"pop\", \"rock\", \"folk rock\", \"hard rock\", \"soul\", \\\n",
        "                    \"progressive rock\", \"soft rock\", \"R&B\", \"disco\"])\n",
        "music_genres"
      ]
    },
    {
      "cell_type": "markdown",
      "metadata": {
        "id": "Tqb5G9AGHtU8"
      },
      "source": [
        "### Set Operations\n"
      ]
    },
    {
      "cell_type": "markdown",
      "metadata": {
        "id": "hiPfv_JeHtU8"
      },
      "source": [
        "Let us go over set operations, as these can be used to change the set. Consider the set <b>A</b>:\n"
      ]
    },
    {
      "cell_type": "code",
      "execution_count": null,
      "metadata": {
        "id": "yOc5n7y_HtU9"
      },
      "outputs": [],
      "source": [
        "# Sample set\n",
        "\n",
        "A = set([\"Thriller\", \"Back in Black\", \"AC/DC\"])\n",
        "A"
      ]
    },
    {
      "cell_type": "markdown",
      "metadata": {
        "id": "xv9TBE-rHtU9"
      },
      "source": [
        "We can add an element to a set using the <code>add()</code> method:\n"
      ]
    },
    {
      "cell_type": "code",
      "execution_count": null,
      "metadata": {
        "id": "xSd_FQ2UHtU9"
      },
      "outputs": [],
      "source": [
        "# Add element to set\n",
        "\n",
        "A.add(\"NSYNC\")\n",
        "A"
      ]
    },
    {
      "cell_type": "markdown",
      "metadata": {
        "id": "0tsZNgCvHtU9"
      },
      "source": [
        "If we add the same element twice, nothing will happen as there can be no duplicates in a set:\n"
      ]
    },
    {
      "cell_type": "code",
      "execution_count": null,
      "metadata": {
        "id": "ZSvRthYoHtU9"
      },
      "outputs": [],
      "source": [
        "# Try to add duplicate element to the set\n",
        "\n",
        "A.add(\"NSYNC\")\n",
        "A"
      ]
    },
    {
      "cell_type": "markdown",
      "metadata": {
        "id": "04GazFURHtU-"
      },
      "source": [
        "We can remove an item from a set using the <code>remove</code> method:\n"
      ]
    },
    {
      "cell_type": "code",
      "execution_count": null,
      "metadata": {
        "id": "JRYuhKAOHtU-"
      },
      "outputs": [],
      "source": [
        "# Remove the element from set\n",
        "\n",
        "A.remove(\"NSYNC\")\n",
        "A"
      ]
    },
    {
      "cell_type": "markdown",
      "metadata": {
        "id": "grT2Er1xHtU-"
      },
      "source": [
        "We can verify if an element is in the set using the <code>in</code> command:\n"
      ]
    },
    {
      "cell_type": "code",
      "execution_count": null,
      "metadata": {
        "id": "EK9gaV8aHtU-"
      },
      "outputs": [],
      "source": [
        "# Verify if the element is in the set\n",
        "\n",
        "\"AC/DC\" in A"
      ]
    },
    {
      "cell_type": "markdown",
      "metadata": {
        "id": "jaCSLE_9HtU-"
      },
      "source": [
        "### Sets Logic Operations\n"
      ]
    },
    {
      "cell_type": "markdown",
      "metadata": {
        "id": "iDNjbweiHtU-"
      },
      "source": [
        "Remember that with sets you can check the difference between sets, as well as the symmetric difference, intersection, and union:\n"
      ]
    },
    {
      "cell_type": "markdown",
      "metadata": {
        "id": "BRGXt672HtU-"
      },
      "source": [
        "Consider the following two sets:\n"
      ]
    },
    {
      "cell_type": "code",
      "execution_count": null,
      "metadata": {
        "id": "TLgFWD69HtU_"
      },
      "outputs": [],
      "source": [
        "# Sample Sets\n",
        "\n",
        "album_set1 = set([\"Thriller\", 'AC/DC', 'Back in Black'])\n",
        "album_set2 = set([ \"AC/DC\", \"Back in Black\", \"The Dark Side of the Moon\"])"
      ]
    },
    {
      "cell_type": "markdown",
      "metadata": {
        "id": "3y568SQHHtU_"
      },
      "source": [
        "<img src=\"https://cf-courses-data.s3.us.cloud-object-storage.appdomain.cloud/IBMDeveloperSkillsNetwork-PY0101EN-SkillsNetwork/labs/Module%202/images/SetsSamples.png\" width=\"650\" />\n"
      ]
    },
    {
      "cell_type": "code",
      "execution_count": null,
      "metadata": {
        "scrolled": true,
        "id": "x5RI2XKMHtU_"
      },
      "outputs": [],
      "source": [
        "# Print two sets\n",
        "\n",
        "album_set1, album_set2"
      ]
    },
    {
      "cell_type": "markdown",
      "metadata": {
        "id": "btkHJft-HtU_"
      },
      "source": [
        "As both sets contain <b>AC/DC</b> and <b>Back in Black</b> we represent these common elements with the intersection of two circles.\n"
      ]
    },
    {
      "cell_type": "markdown",
      "metadata": {
        "id": "IfidGR-UHtU_"
      },
      "source": [
        "<img src = \"https://cf-courses-data.s3.us.cloud-object-storage.appdomain.cloud/IBMDeveloperSkillsNetwork-PY0101EN-SkillsNetwork/labs/Module%202/images/SetsLogic.png\" width = \"650\" />\n"
      ]
    },
    {
      "cell_type": "markdown",
      "metadata": {
        "id": "H4ZWCjnwHtU_"
      },
      "source": [
        "You can find the intersect of two sets as follow using <code>&</code>:\n"
      ]
    },
    {
      "cell_type": "code",
      "execution_count": null,
      "metadata": {
        "id": "w0XyKIl7HtU_"
      },
      "outputs": [],
      "source": [
        "# Find the intersections\n",
        "\n",
        "intersection = album_set1 & album_set2\n",
        "intersection"
      ]
    },
    {
      "cell_type": "markdown",
      "metadata": {
        "id": "sOE3X-2iHtU_"
      },
      "source": [
        "You can find all the elements that are only contained in <code>album_set1</code> using the <code>difference</code> method:\n"
      ]
    },
    {
      "cell_type": "code",
      "execution_count": null,
      "metadata": {
        "id": "0Cp5n9ZNHtVA"
      },
      "outputs": [],
      "source": [
        "# Find the difference in set1 but not set2\n",
        "\n",
        "album_set1.difference(album_set2)  "
      ]
    },
    {
      "cell_type": "markdown",
      "metadata": {
        "id": "2JrjhCXAHtVA"
      },
      "source": [
        "You only need to consider elements in <code>album_set1</code>; all the elements in <code>album_set2</code>, including the intersection, are not included.\n"
      ]
    },
    {
      "cell_type": "markdown",
      "metadata": {
        "id": "RvDuMlA6HtVA"
      },
      "source": [
        "<img src=\"https://cf-courses-data.s3.us.cloud-object-storage.appdomain.cloud/IBMDeveloperSkillsNetwork-PY0101EN-SkillsNetwork/labs/Module%202/images/SetsLeft.png\" width=\"650\" />\n"
      ]
    },
    {
      "cell_type": "markdown",
      "metadata": {
        "id": "8Id6BOM0HtVA"
      },
      "source": [
        "The elements in <code>album_set2</code> but not in <code>album_set1</code> is given by:\n"
      ]
    },
    {
      "cell_type": "code",
      "execution_count": null,
      "metadata": {
        "id": "dym6k6z_HtVA"
      },
      "outputs": [],
      "source": [
        "album_set2.difference(album_set1)  "
      ]
    },
    {
      "cell_type": "markdown",
      "metadata": {
        "id": "D8_5d-DzHtVA"
      },
      "source": [
        "<img src = \"https://cf-courses-data.s3.us.cloud-object-storage.appdomain.cloud/IBMDeveloperSkillsNetwork-PY0101EN-SkillsNetwork/labs/Module%202/images/SetsRight.png\" width=\"650\" />\n"
      ]
    },
    {
      "cell_type": "markdown",
      "metadata": {
        "id": "JwHFcnCoHtVA"
      },
      "source": [
        "You can also find the intersection of <code>album_list1</code> and <code>album_list2</code>, using the <code>intersection</code> method:\n"
      ]
    },
    {
      "cell_type": "code",
      "execution_count": null,
      "metadata": {
        "id": "NhfDRzBIHtVA"
      },
      "outputs": [],
      "source": [
        "# Use intersection method to find the intersection of album_list1 and album_list2\n",
        "\n",
        "album_set1.intersection(album_set2)   "
      ]
    },
    {
      "cell_type": "markdown",
      "metadata": {
        "id": "6uyBkM0HHtVB"
      },
      "source": [
        "This corresponds to the intersection of the two circles:\n"
      ]
    },
    {
      "cell_type": "markdown",
      "metadata": {
        "id": "G9f_HqggHtVB"
      },
      "source": [
        "<img src=\"https://cf-courses-data.s3.us.cloud-object-storage.appdomain.cloud/IBMDeveloperSkillsNetwork-PY0101EN-SkillsNetwork/labs/Module%202/images/SetsIntersect.png\" width=\"650\" />\n"
      ]
    },
    {
      "cell_type": "markdown",
      "metadata": {
        "id": "n4yaON2xHtVB"
      },
      "source": [
        "The union corresponds to all the elements in both sets, which is represented by coloring both circles:\n"
      ]
    },
    {
      "cell_type": "markdown",
      "metadata": {
        "id": "0nhzfzFkHtVB"
      },
      "source": [
        "<img src = \"https://cf-courses-data.s3.us.cloud-object-storage.appdomain.cloud/IBMDeveloperSkillsNetwork-PY0101EN-SkillsNetwork/labs/Module%202/images/SetsUnion.png\" width=\"650\" />\n"
      ]
    },
    {
      "cell_type": "markdown",
      "metadata": {
        "id": "SuQ8Mr_9HtVB"
      },
      "source": [
        "The union is given by:\n"
      ]
    },
    {
      "cell_type": "code",
      "execution_count": null,
      "metadata": {
        "collapsed": true,
        "id": "Hs5DEQ-MHtVB"
      },
      "outputs": [],
      "source": [
        "# Find the union of two sets\n",
        "\n",
        "album_set1.union(album_set2)"
      ]
    },
    {
      "cell_type": "markdown",
      "metadata": {
        "id": "8rCu0OwYHtVB"
      },
      "source": [
        "And you can check if a set is a superset or subset of another set, respectively, like this:\n"
      ]
    },
    {
      "cell_type": "code",
      "execution_count": null,
      "metadata": {
        "id": "vu27Me-GHtVB"
      },
      "outputs": [],
      "source": [
        "# Check if superset\n",
        "\n",
        "set(album_set1).issuperset(album_set2)   "
      ]
    },
    {
      "cell_type": "code",
      "execution_count": null,
      "metadata": {
        "id": "iaiYAsAPHtVC"
      },
      "outputs": [],
      "source": [
        "# Check if subset\n",
        "\n",
        "set(album_set2).issubset(album_set1)     "
      ]
    },
    {
      "cell_type": "markdown",
      "metadata": {
        "id": "LUVirS3hHtVC"
      },
      "source": [
        "Here is an example where <code>issubset()</code> and <code>issuperset()</code> return true:\n"
      ]
    },
    {
      "cell_type": "code",
      "execution_count": null,
      "metadata": {
        "id": "makfnICvHtVC"
      },
      "outputs": [],
      "source": [
        "# Check if subset\n",
        "\n",
        "set({\"Back in Black\", \"AC/DC\"}).issubset(album_set1) "
      ]
    },
    {
      "cell_type": "code",
      "execution_count": null,
      "metadata": {
        "id": "APqyEZKMHtVC"
      },
      "outputs": [],
      "source": [
        "# Check if superset\n",
        "\n",
        "album_set1.issuperset({\"Back in Black\", \"AC/DC\"})   "
      ]
    },
    {
      "cell_type": "markdown",
      "source": [
        "### Python Set difference_update()\n"
      ],
      "metadata": {
        "id": "BSnWkmb8NFy2"
      }
    },
    {
      "cell_type": "markdown",
      "source": [
        "The difference_update() method computes the difference between two sets (A - B) and updates set A with the resulting set."
      ],
      "metadata": {
        "id": "jCJMQaqfNCwU"
      }
    },
    {
      "cell_type": "code",
      "source": [
        "# sets of numbers\n",
        "A = {1, 3, 5, 7, 9}\n",
        "B = {2, 3, 5, 7, 11}\n",
        "\n",
        "# computes A - B and updates A with the resulting set\n",
        "A.difference_update(B)\n",
        "\n",
        "print('A = ', A)\n",
        "\n",
        "# Output: A =  {1, 9}"
      ],
      "metadata": {
        "colab": {
          "base_uri": "https://localhost:8080/"
        },
        "id": "A3cTggadNLI0",
        "outputId": "258e7357-c342-40e7-b05c-07c45248250f"
      },
      "execution_count": null,
      "outputs": [
        {
          "output_type": "stream",
          "name": "stdout",
          "text": [
            "A =  {1, 9}\n"
          ]
        }
      ]
    },
    {
      "cell_type": "code",
      "source": [
        "A = {'a', 'c', 'g', 'd'}\n",
        "B = {'c', 'f', 'g'}\n",
        "\n",
        "print('A before (A - B) =', A)\n",
        "\n",
        "A.difference_update(B)\n",
        "\n",
        "print('A after (A - B) = ', A)"
      ],
      "metadata": {
        "colab": {
          "base_uri": "https://localhost:8080/"
        },
        "id": "Voj3em_jM_KH",
        "outputId": "864c70eb-5cfd-4e91-c850-5931af852b7a"
      },
      "execution_count": null,
      "outputs": [
        {
          "output_type": "stream",
          "name": "stdout",
          "text": [
            "A before (A - B) = {'g', 'c', 'a', 'd'}\n",
            "A after (A - B) =  {'a', 'd'}\n"
          ]
        }
      ]
    },
    {
      "cell_type": "markdown",
      "source": [
        "### Set Symmetric Difference\n"
      ],
      "metadata": {
        "id": "XYBnKlI3N2jY"
      }
    },
    {
      "cell_type": "markdown",
      "source": [
        "Symmetric Difference of A and B is a set of elements in A and B but not in both (excluding the intersection).\n",
        "\n",
        "Symmetric difference is performed using ^ operator. Same can be accomplished using the method symmetric_difference()."
      ],
      "metadata": {
        "id": "sRAUifb8N727"
      }
    },
    {
      "cell_type": "markdown",
      "source": [
        "![image.png](data:image/png;base64,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)"
      ],
      "metadata": {
        "id": "3nG3SvrzN5FJ"
      }
    },
    {
      "cell_type": "code",
      "source": [
        "# Symmetric difference of two sets\n",
        "# initialize A and B\n",
        "A = {1, 2, 3, 4, 5}\n",
        "B = {4, 5, 6, 7, 8}\n",
        "\n",
        "# use ^ operator\n",
        "# Output: {1, 2, 3, 6, 7, 8}\n",
        "print(A ^ B)"
      ],
      "metadata": {
        "colab": {
          "base_uri": "https://localhost:8080/"
        },
        "id": "YSu63QBZN-iT",
        "outputId": "fbd9d69f-b5b9-42ec-9882-7385dd4bc81d"
      },
      "execution_count": null,
      "outputs": [
        {
          "output_type": "stream",
          "name": "stdout",
          "text": [
            "{1, 2, 3, 6, 7, 8}\n"
          ]
        }
      ]
    },
    {
      "cell_type": "code",
      "source": [
        "# use symmetric_difference function on A\n",
        "A.symmetric_difference(B)\n",
        "{1, 2, 3, 6, 7, 8}\n",
        "\n",
        "# use symmetric_difference function on B\n",
        "B.symmetric_difference(A)\n",
        "{1, 2, 3, 6, 7, 8}"
      ],
      "metadata": {
        "colab": {
          "base_uri": "https://localhost:8080/"
        },
        "id": "FTtbcTDAOARB",
        "outputId": "605f138a-2d57-4488-e16f-96b5a0912fcb"
      },
      "execution_count": null,
      "outputs": [
        {
          "output_type": "execute_result",
          "data": {
            "text/plain": [
              "{1, 2, 3, 6, 7, 8}"
            ]
          },
          "metadata": {},
          "execution_count": 5
        }
      ]
    },
    {
      "cell_type": "markdown",
      "metadata": {
        "id": "Uux5IgpyHtVC"
      },
      "source": [
        "<hr>\n"
      ]
    }
  ]
}
