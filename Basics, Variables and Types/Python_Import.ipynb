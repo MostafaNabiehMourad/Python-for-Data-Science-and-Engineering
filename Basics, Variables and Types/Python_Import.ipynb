{
  "nbformat": 4,
  "nbformat_minor": 0,
  "metadata": {
    "colab": {
      "provenance": []
    },
    "kernelspec": {
      "name": "python3",
      "display_name": "Python 3"
    },
    "language_info": {
      "name": "python"
    }
  },
  "cells": [
    {
      "cell_type": "markdown",
      "metadata": {
        "id": "_gEz28At8NRz"
      },
      "source": [
        "# Python Import\n"
      ]
    },
    {
      "cell_type": "markdown",
      "metadata": {
        "id": "m1lWDWwIaagS"
      },
      "source": [
        "When our program grows bigger, it is a good idea to break it into different modules.\n",
        "\n",
        "A module is a file containing Python definitions and statements. Python modules have a filename and end with the extension .py.\n",
        "\n",
        "Definitions inside a module can be imported to another module or the interactive interpreter in Python. We use the import keyword to do this.\n",
        "\n",
        "For example, we can import the math module by typing the following line:"
      ]
    },
    {
      "cell_type": "code",
      "metadata": {
        "colab": {
          "base_uri": "https://localhost:8080/"
        },
        "outputId": "96f64ee8-8a7c-4d57-f55a-a4db460bbc13",
        "id": "94YRrkWRaagV"
      },
      "source": [
        "import math\n",
        "print(math.pi)"
      ],
      "execution_count": null,
      "outputs": [
        {
          "output_type": "stream",
          "name": "stdout",
          "text": [
            "3.141592653589793\n"
          ]
        }
      ]
    },
    {
      "cell_type": "code",
      "metadata": {
        "id": "LlDntKoSaagX"
      },
      "source": [
        "from math import pi"
      ],
      "execution_count": null,
      "outputs": []
    },
    {
      "cell_type": "code",
      "metadata": {
        "colab": {
          "base_uri": "https://localhost:8080/"
        },
        "outputId": "df60a887-dfde-4458-d066-5f0adeac1409",
        "id": "6tSo1CwaaagY"
      },
      "source": [
        "pi"
      ],
      "execution_count": null,
      "outputs": [
        {
          "output_type": "execute_result",
          "data": {
            "text/plain": [
              "3.141592653589793"
            ]
          },
          "metadata": {},
          "execution_count": 75
        }
      ]
    },
    {
      "cell_type": "markdown",
      "metadata": {
        "id": "NYEz8XwIaagZ"
      },
      "source": [
        "While importing a module, Python looks at several places defined in sys.path. It is a list of directory locations.\n",
        "\n"
      ]
    },
    {
      "cell_type": "code",
      "metadata": {
        "colab": {
          "base_uri": "https://localhost:8080/"
        },
        "outputId": "511d7b5a-eeb3-40b1-e6f4-da825f18b6db",
        "id": "IoAlMu38aagb"
      },
      "source": [
        "import sys\n",
        "sys.path"
      ],
      "execution_count": null,
      "outputs": [
        {
          "output_type": "execute_result",
          "data": {
            "text/plain": [
              "['/content',\n",
              " '/env/python',\n",
              " '/usr/lib/python37.zip',\n",
              " '/usr/lib/python3.7',\n",
              " '/usr/lib/python3.7/lib-dynload',\n",
              " '',\n",
              " '/usr/local/lib/python3.7/dist-packages',\n",
              " '/usr/lib/python3/dist-packages',\n",
              " '/usr/local/lib/python3.7/dist-packages/IPython/extensions',\n",
              " '/root/.ipython']"
            ]
          },
          "metadata": {},
          "execution_count": 76
        }
      ]
    },
    {
      "cell_type": "code",
      "metadata": {
        "id": "VYa6RcXkryWs",
        "colab": {
          "base_uri": "https://localhost:8080/"
        },
        "outputId": "96f64ee8-8a7c-4d57-f55a-a4db460bbc13"
      },
      "source": [
        "import math\n",
        "print(math.pi)"
      ],
      "execution_count": null,
      "outputs": [
        {
          "output_type": "stream",
          "name": "stdout",
          "text": [
            "3.141592653589793\n"
          ]
        }
      ]
    },
    {
      "cell_type": "code",
      "metadata": {
        "id": "umdOzlC9ry8d"
      },
      "source": [
        "from math import pi"
      ],
      "execution_count": null,
      "outputs": []
    },
    {
      "cell_type": "code",
      "metadata": {
        "id": "bhhSJLckr0hI",
        "colab": {
          "base_uri": "https://localhost:8080/"
        },
        "outputId": "df60a887-dfde-4458-d066-5f0adeac1409"
      },
      "source": [
        "pi"
      ],
      "execution_count": null,
      "outputs": [
        {
          "output_type": "execute_result",
          "data": {
            "text/plain": [
              "3.141592653589793"
            ]
          },
          "metadata": {},
          "execution_count": 75
        }
      ]
    },
    {
      "cell_type": "markdown",
      "metadata": {
        "id": "0hBQsOy5r3iq"
      },
      "source": [
        "While importing a module, Python looks at several places defined in sys.path. It is a list of directory locations.\n",
        "\n"
      ]
    },
    {
      "cell_type": "code",
      "metadata": {
        "id": "qhDAqlMAr2vs",
        "colab": {
          "base_uri": "https://localhost:8080/"
        },
        "outputId": "511d7b5a-eeb3-40b1-e6f4-da825f18b6db"
      },
      "source": [
        "import sys\n",
        "sys.path"
      ],
      "execution_count": null,
      "outputs": [
        {
          "output_type": "execute_result",
          "data": {
            "text/plain": [
              "['/content',\n",
              " '/env/python',\n",
              " '/usr/lib/python37.zip',\n",
              " '/usr/lib/python3.7',\n",
              " '/usr/lib/python3.7/lib-dynload',\n",
              " '',\n",
              " '/usr/local/lib/python3.7/dist-packages',\n",
              " '/usr/lib/python3/dist-packages',\n",
              " '/usr/local/lib/python3.7/dist-packages/IPython/extensions',\n",
              " '/root/.ipython']"
            ]
          },
          "metadata": {},
          "execution_count": 76
        }
      ]
    }
  ]
}