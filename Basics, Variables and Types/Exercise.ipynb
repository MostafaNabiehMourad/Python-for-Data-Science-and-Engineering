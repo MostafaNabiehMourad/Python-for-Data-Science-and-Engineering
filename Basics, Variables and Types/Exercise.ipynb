{
  "nbformat": 4,
  "nbformat_minor": 0,
  "metadata": {
    "colab": {
      "provenance": []
    },
    "kernelspec": {
      "name": "python3",
      "display_name": "Python 3"
    },
    "language_info": {
      "name": "python"
    }
  },
  "cells": [
    {
      "cell_type": "markdown",
      "metadata": {
        "id": "JZ1or-jxJhOC"
      },
      "source": [
        "<h3 id=\"exercise\">Exercise: Your First Program</h3>\n"
      ]
    },
    {
      "cell_type": "markdown",
      "metadata": {
        "id": "jvgPu8n7JhOC"
      },
      "source": [
        "<p>Generations of programmers have started their coding careers by simply printing \"Hello, world!\". You will be following in their footsteps.</p>\n",
        "<p>In the code cell below, use the <code>print()</code> function to print out the phrase: <code>Hello, world!</code></p>\n"
      ]
    },
    {
      "cell_type": "code",
      "execution_count": null,
      "metadata": {
        "id": "PP9ORij4JhOC"
      },
      "outputs": [],
      "source": [
        "# Write your code below. Don't forget to press Shift+Enter to execute the cell\n"
      ]
    },
    {
      "cell_type": "markdown",
      "metadata": {
        "id": "NF4TaWpIJhOC"
      },
      "source": [
        "<details><summary>Click here for the solution</summary>\n",
        "\n",
        "```python\n",
        "print(\"Hello, world!\")\n",
        "\n",
        "```\n",
        "\n",
        "</details>\n"
      ]
    },
    {
      "cell_type": "markdown",
      "metadata": {
        "id": "KFdCtiznJhOD"
      },
      "source": [
        "<p>Now, let's enhance your code with a comment. In the code cell below, print out the phrase: <code>Hello, world!</code> and comment it with the phrase <code>Print the traditional hello world</code> all in one line of code.</p>\n"
      ]
    },
    {
      "cell_type": "code",
      "execution_count": null,
      "metadata": {
        "id": "7rJQAQglJhOD"
      },
      "outputs": [],
      "source": [
        "# Write your code below. Don't forget to press Shift+Enter to execute the cell\n"
      ]
    },
    {
      "cell_type": "markdown",
      "metadata": {
        "id": "T1p1GHTiJhOD"
      },
      "source": [
        "<details><summary>Click here for the solution</summary>\n",
        "\n",
        "```python\n",
        "print(\"Hello, world!\") # Print the traditional hello world\n",
        "\n",
        "```\n",
        "\n",
        "</details>\n"
      ]
    },
    {
      "cell_type": "markdown",
      "source": [
        "\n",
        "\n",
        "---\n",
        "\n"
      ],
      "metadata": {
        "id": "iRlkZZFJSKx8"
      }
    },
    {
      "cell_type": "markdown",
      "metadata": {
        "id": "AcYdhB6RJhOF"
      },
      "source": [
        "<p>In the code cell below, use the <code>type()</code> function to check the object type of <code>12.0</code>.\n"
      ]
    },
    {
      "cell_type": "code",
      "execution_count": null,
      "metadata": {
        "id": "aez47KeZJhOF"
      },
      "outputs": [],
      "source": [
        "# Write your code below. Don't forget to press Shift+Enter to execute the cell\n"
      ]
    },
    {
      "cell_type": "markdown",
      "metadata": {
        "id": "sFWKOdK7JhOF"
      },
      "source": [
        "<details><summary>Click here for the solution</summary>\n",
        "\n",
        "```python\n",
        "type(12.0)\n",
        "\n",
        "```\n",
        "\n",
        "</details>\n"
      ]
    },
    {
      "cell_type": "markdown",
      "source": [
        "\n",
        "\n",
        "---\n",
        "\n"
      ],
      "metadata": {
        "id": "oGRHepXRSIom"
      }
    },
    {
      "cell_type": "markdown",
      "metadata": {
        "id": "erADcp2bJhOK"
      },
      "source": [
        "<h3 id=\"exer_type\">Exercise: Types</h3>\n"
      ]
    },
    {
      "cell_type": "markdown",
      "metadata": {
        "id": "IMaQEobzJhOK"
      },
      "source": [
        "<p>What is the data type of the result of: <code>6 / 2</code>?</p>\n"
      ]
    },
    {
      "cell_type": "code",
      "execution_count": null,
      "metadata": {
        "id": "tU7zqjN3JhOK"
      },
      "outputs": [],
      "source": [
        "# Write your code below. Don't forget to press Shift+Enter to execute the cell\n"
      ]
    },
    {
      "cell_type": "markdown",
      "metadata": {
        "id": "6_hYlqSpJhOL"
      },
      "source": [
        "<details><summary>Click here for the solution</summary>\n",
        "\n",
        "```python\n",
        "type(6/2) # float\n",
        "\n",
        "```\n",
        "\n",
        "</details>\n"
      ]
    },
    {
      "cell_type": "markdown",
      "metadata": {
        "id": "NIF8pUhfJhOL"
      },
      "source": [
        "<p>What is the type of the result of: <code>6 // 2</code>? (Note the double slash <code>//</code>.)</p>\n"
      ]
    },
    {
      "cell_type": "code",
      "execution_count": null,
      "metadata": {
        "id": "3oAjZSs5JhOL"
      },
      "outputs": [],
      "source": [
        "# Write your code below. Don't forget to press Shift+Enter to execute the cell\n"
      ]
    },
    {
      "cell_type": "markdown",
      "metadata": {
        "id": "fdYSBG6LJhOL"
      },
      "source": [
        "<details><summary>Click here for the solution</summary>\n",
        "\n",
        "```python\n",
        "type(6//2) # int, as the double slashes stand for integer division \n",
        "\n",
        "```\n",
        "\n",
        "</details>\n"
      ]
    },
    {
      "cell_type": "markdown",
      "metadata": {
        "id": "u6DRjZlFJhOL"
      },
      "source": [
        "<hr>\n"
      ]
    },
    {
      "cell_type": "markdown",
      "metadata": {
        "id": "dMfGxGCoJhON"
      },
      "source": [
        "<h3 id=\"exer_exp\">Exercise: Expression</h3>\n"
      ]
    },
    {
      "cell_type": "markdown",
      "metadata": {
        "id": "h0Bp3yNnJhON"
      },
      "source": [
        "<p>Let's write an expression that calculates how many hours there are in 160 minutes:\n"
      ]
    },
    {
      "cell_type": "code",
      "execution_count": null,
      "metadata": {
        "id": "-cxiHRZPJhON"
      },
      "outputs": [],
      "source": [
        "# Write your code below. Don't forget to press Shift+Enter to execute the cell\n"
      ]
    },
    {
      "cell_type": "markdown",
      "metadata": {
        "id": "zTbLj_i4JhON"
      },
      "source": [
        "<details><summary>Click here for the solution</summary>\n",
        "\n",
        "```python\n",
        "160/60 \n",
        "\n",
        "# Or \n",
        "\n",
        "160//60\n",
        "\n",
        "```\n",
        "\n",
        "</details>\n"
      ]
    },
    {
      "cell_type": "markdown",
      "source": [
        "\n",
        "\n",
        "---\n",
        "\n"
      ],
      "metadata": {
        "id": "kCMeiS6wT9NN"
      }
    },
    {
      "cell_type": "markdown",
      "metadata": {
        "id": "z073NUH0JhOP"
      },
      "source": [
        "<h3 id=\"exer_exp_var\">Exercise: Expression and Variables in Python</h3>\n"
      ]
    },
    {
      "cell_type": "markdown",
      "metadata": {
        "id": "GFmCmuQvJhOP"
      },
      "source": [
        "<p>What is the value of <code>x</code> where <code>x = 3 + 2 * 2</code></p>\n"
      ]
    },
    {
      "cell_type": "code",
      "execution_count": null,
      "metadata": {
        "id": "4dx8AQyaJhOP"
      },
      "outputs": [],
      "source": [
        "# Write your code below. Don't forget to press Shift+Enter to execute the cell\n"
      ]
    },
    {
      "cell_type": "markdown",
      "metadata": {
        "id": "RS4Ds8xEJhOP"
      },
      "source": [
        "<details><summary>Click here for the solution</summary>\n",
        "\n",
        "```python\n",
        "7\n",
        "\n",
        "```\n",
        "\n",
        "</details>\n"
      ]
    },
    {
      "cell_type": "markdown",
      "metadata": {
        "id": "4Ye7dLkFJhOP"
      },
      "source": [
        "<p>What is the value of <code>y</code> where <code>y = (3 + 2) * 2</code>?</p>\n"
      ]
    },
    {
      "cell_type": "code",
      "execution_count": null,
      "metadata": {
        "id": "gb3Ob4zeJhOP"
      },
      "outputs": [],
      "source": [
        "# Write your code below. Don't forget to press Shift+Enter to execute the cell\n"
      ]
    },
    {
      "cell_type": "markdown",
      "metadata": {
        "id": "iyKviwbDJhOP"
      },
      "source": [
        "<details><summary>Click here for the solution</summary>\n",
        "\n",
        "```python\n",
        "10\n",
        "\n",
        "```\n",
        "\n",
        "</details>\n"
      ]
    },
    {
      "cell_type": "markdown",
      "metadata": {
        "id": "RVk_CaXNJhOQ"
      },
      "source": [
        "<p>What is the value of <code>z</code> where <code>z = x + y</code>?</p>\n"
      ]
    },
    {
      "cell_type": "code",
      "execution_count": null,
      "metadata": {
        "id": "Y0o-1LEvJhOQ"
      },
      "outputs": [],
      "source": [
        "# Write your code below. Don't forget to press Shift+Enter to execute the cell\n"
      ]
    },
    {
      "cell_type": "markdown",
      "metadata": {
        "id": "3aA7s7SfJhOQ"
      },
      "source": [
        "<details><summary>Click here for the solution</summary>\n",
        "\n",
        "```python\n",
        "17\n",
        "\n",
        "```\n",
        "\n",
        "</details>\n"
      ]
    },
    {
      "cell_type": "markdown",
      "source": [
        "\n",
        "\n",
        "---\n",
        "\n"
      ],
      "metadata": {
        "id": "G0javZE0VcpU"
      }
    },
    {
      "cell_type": "markdown",
      "metadata": {
        "id": "zNxWFkNEUW2j"
      },
      "source": [
        "<h2 id=\"quiz\">Quiz on Strings</h2>\n"
      ]
    },
    {
      "cell_type": "markdown",
      "metadata": {
        "id": "M7kdyz6tUW2j"
      },
      "source": [
        "What is the value of the variable <code>a</code> after the following code is executed?\n"
      ]
    },
    {
      "cell_type": "code",
      "execution_count": null,
      "metadata": {
        "id": "T-Owu_EHUW2j"
      },
      "outputs": [],
      "source": [
        "# Write your code below and press Shift+Enter to execute \n",
        "\n",
        "a = \"1\""
      ]
    },
    {
      "cell_type": "markdown",
      "metadata": {
        "id": "kkOeZIsIUW2j"
      },
      "source": [
        "<details><summary>Click here for the solution</summary>\n",
        "\n",
        "```python\n",
        "\"1\"\n",
        "\n",
        "```\n",
        "\n",
        "</details>\n"
      ]
    },
    {
      "cell_type": "markdown",
      "metadata": {
        "id": "dI3H8VKJUW2k"
      },
      "source": [
        "What is the value of the variable <code>b</code> after the following code is executed?\n"
      ]
    },
    {
      "cell_type": "code",
      "execution_count": null,
      "metadata": {
        "id": "aYF-KuA7UW2k"
      },
      "outputs": [],
      "source": [
        "# Write your code below and press Shift+Enter to execute\n",
        "\n",
        "b = \"2\""
      ]
    },
    {
      "cell_type": "markdown",
      "metadata": {
        "id": "nKQwM4VNUW2k"
      },
      "source": [
        "<details><summary>Click here for the solution</summary>\n",
        "\n",
        "```python\n",
        "\"2\"\n",
        "\n",
        "```\n",
        "\n",
        "</details>\n"
      ]
    },
    {
      "cell_type": "markdown",
      "metadata": {
        "id": "XlcyR9EZUW2k"
      },
      "source": [
        "What is the value of the variable <code>c</code> after the following code is executed?\n"
      ]
    },
    {
      "cell_type": "code",
      "execution_count": null,
      "metadata": {
        "id": "ji_ZsBc5UW2k"
      },
      "outputs": [],
      "source": [
        "# Write your code below and press Shift+Enter to execute \n",
        "\n",
        "c = a + b"
      ]
    },
    {
      "cell_type": "markdown",
      "metadata": {
        "id": "WPrAmOMfUW2k"
      },
      "source": [
        "<details><summary>Click here for the solution</summary>\n",
        "\n",
        "```python\n",
        "\"12\"\n",
        "\n",
        "```\n",
        "\n",
        "</details>\n"
      ]
    },
    {
      "cell_type": "markdown",
      "metadata": {
        "id": "ucePSaoFUW2k"
      },
      "source": [
        "<hr>\n"
      ]
    },
    {
      "cell_type": "markdown",
      "metadata": {
        "id": "A3kYsPs4UW2k"
      },
      "source": [
        "Consider the variable <code>d</code> use slicing to print out the first three elements:\n"
      ]
    },
    {
      "cell_type": "code",
      "execution_count": null,
      "metadata": {
        "id": "lnxGCE1qUW2k"
      },
      "outputs": [],
      "source": [
        "# Write your code below and press Shift+Enter to execute\n",
        "\n",
        "d = \"ABCDEFG\""
      ]
    },
    {
      "cell_type": "markdown",
      "metadata": {
        "id": "kHpEyDZDUW2l"
      },
      "source": [
        "<details><summary>Click here for the solution</summary>\n",
        "\n",
        "```python\n",
        "print(d[:3]) \n",
        "\n",
        "# or \n",
        "\n",
        "print(d[0:3])\n",
        "\n",
        "```\n",
        "\n",
        "</details>\n"
      ]
    },
    {
      "cell_type": "markdown",
      "metadata": {
        "id": "at7B8rTNUW2l"
      },
      "source": [
        "<hr>\n"
      ]
    },
    {
      "cell_type": "markdown",
      "metadata": {
        "id": "FmE4Jw-MUW2l"
      },
      "source": [
        "Use a stride value of 2 to print out every second character of the string <code>e</code>:\n"
      ]
    },
    {
      "cell_type": "code",
      "execution_count": null,
      "metadata": {
        "id": "ijHr4QR9UW2l"
      },
      "outputs": [],
      "source": [
        "# Write your code below and press Shift+Enter to execute\n",
        "\n",
        "e = 'clocrkr1e1c1t'"
      ]
    },
    {
      "cell_type": "markdown",
      "metadata": {
        "id": "bvbPHqWEUW2l"
      },
      "source": [
        "<details><summary>Click here for the solution</summary>\n",
        "\n",
        "```python\n",
        "print(e[::2])\n",
        "\n",
        "```\n",
        "\n",
        "</details>\n"
      ]
    },
    {
      "cell_type": "markdown",
      "metadata": {
        "id": "FBxGsiNBUW2l"
      },
      "source": [
        "<hr>\n"
      ]
    },
    {
      "cell_type": "markdown",
      "metadata": {
        "id": "g3KdsvEdUW2l"
      },
      "source": [
        "Print out a backslash:\n"
      ]
    },
    {
      "cell_type": "code",
      "execution_count": null,
      "metadata": {
        "id": "Qznn3GVuUW2l"
      },
      "outputs": [],
      "source": [
        "# Write your code below and press Shift+Enter to execute\n"
      ]
    },
    {
      "cell_type": "markdown",
      "metadata": {
        "id": "mwXAkHHCUW2l"
      },
      "source": [
        "<details><summary>Click here for the solution</summary>\n",
        "\n",
        "```python\n",
        "print(\"\\\\\\\\\")\n",
        "\n",
        "or\n",
        "\n",
        "print(r\"\\ \")\n",
        "\n",
        "```\n",
        "\n",
        "</details>\n"
      ]
    },
    {
      "cell_type": "markdown",
      "metadata": {
        "id": "sVGesCACUW2m"
      },
      "source": [
        "<hr>\n"
      ]
    },
    {
      "cell_type": "markdown",
      "metadata": {
        "id": "hH_9lN6LUW2m"
      },
      "source": [
        "Convert the variable <code>f</code> to uppercase:\n"
      ]
    },
    {
      "cell_type": "code",
      "execution_count": null,
      "metadata": {
        "id": "0FklXX5rUW2m"
      },
      "outputs": [],
      "source": [
        "# Write your code below and press Shift+Enter to execute\n",
        "\n",
        "f = \"You are wrong\""
      ]
    },
    {
      "cell_type": "markdown",
      "metadata": {
        "id": "zdmDEMccUW2m"
      },
      "source": [
        "<details><summary>Click here for the solution</summary>\n",
        "\n",
        "```python\n",
        "f.upper()\n",
        "\n",
        "```\n",
        "\n",
        "</details>\n"
      ]
    },
    {
      "cell_type": "markdown",
      "metadata": {
        "id": "MKuIud2MUW2m"
      },
      "source": [
        "<hr>\n"
      ]
    },
    {
      "cell_type": "markdown",
      "metadata": {
        "id": "cizcRwl3UW2m"
      },
      "source": [
        "Consider the variable <code>g</code>, and find the first index of the sub-string <code>snow</code>:\n"
      ]
    },
    {
      "cell_type": "code",
      "execution_count": null,
      "metadata": {
        "id": "efv2aIWRUW2m"
      },
      "outputs": [],
      "source": [
        "# Write your code below and press Shift+Enter to execute\n",
        "\n",
        "g = \"Mary had a little lamb Little lamb, little lamb Mary had a little lamb \\\n",
        "Its fleece was white as snow And everywhere that Mary went Mary went, Mary went \\\n",
        "Everywhere that Mary went The lamb was sure to go\""
      ]
    },
    {
      "cell_type": "markdown",
      "metadata": {
        "id": "0CY9tTO1UW2m"
      },
      "source": [
        "<details><summary>Click here for the solution</summary>\n",
        "\n",
        "```python\n",
        "g.find(\"snow\")\n",
        "\n",
        "```\n",
        "\n",
        "</details>\n"
      ]
    },
    {
      "cell_type": "markdown",
      "metadata": {
        "id": "pk-FlP9BUW2m"
      },
      "source": [
        "In the variable <code>g</code>, replace the sub-string <code>Mary</code> with <code>Bob</code>:\n"
      ]
    },
    {
      "cell_type": "code",
      "execution_count": null,
      "metadata": {
        "id": "rMwHuB-lUW2n"
      },
      "outputs": [],
      "source": [
        "# Write your code below and press Shift+Enter to execute\n"
      ]
    },
    {
      "cell_type": "markdown",
      "metadata": {
        "id": "jjL_le4oUW2n"
      },
      "source": [
        "<details><summary>Click here for the solution</summary>\n",
        "\n",
        "```python\n",
        "g.replace(\"Mary\", \"Bob\")\n",
        "\n",
        "```\n",
        "\n",
        "</details>\n"
      ]
    },
    {
      "cell_type": "markdown",
      "source": [
        "\n",
        "\n",
        "---\n",
        "\n"
      ],
      "metadata": {
        "id": "CLhz0_LlVjR4"
      }
    }
  ]
}