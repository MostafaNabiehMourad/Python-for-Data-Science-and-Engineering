{
  "nbformat": 4,
  "nbformat_minor": 0,
  "metadata": {
    "colab": {
      "provenance": []
    },
    "kernelspec": {
      "name": "python3",
      "display_name": "Python 3"
    },
    "language_info": {
      "name": "python"
    }
  },
  "cells": [
    {
      "cell_type": "markdown",
      "source": [
        "# IO(Input and Output)"
      ],
      "metadata": {
        "id": "fmI7Kb6WV44B"
      }
    },
    {
      "cell_type": "markdown",
      "metadata": {
        "id": "SdriWJXk_mEp"
      },
      "source": [
        "## Python Output\n",
        " Using print() function\n",
        "We use the print() function to output data to the standard output device (screen). We can also output data to a file, but this will be discussed later.\n",
        "\n",
        "An example of its use is given below."
      ]
    },
    {
      "cell_type": "code",
      "metadata": {
        "id": "Dg64hRIZ_fQO",
        "colab": {
          "base_uri": "https://localhost:8080/"
        },
        "outputId": "7bddaf43-4dfd-417c-ca81-1abf33e4b0fb"
      },
      "source": [
        "print('This sentence is output to the screen')"
      ],
      "execution_count": null,
      "outputs": [
        {
          "output_type": "stream",
          "name": "stdout",
          "text": [
            "This sentence is output to the screen\n"
          ]
        }
      ]
    },
    {
      "cell_type": "code",
      "metadata": {
        "id": "4RM8Jkj5_pcS",
        "colab": {
          "base_uri": "https://localhost:8080/"
        },
        "outputId": "53ed037d-2930-4fc4-b042-2325ba6012da"
      },
      "source": [
        "a = 5\n",
        "print('The value of a is', a)"
      ],
      "execution_count": null,
      "outputs": [
        {
          "output_type": "stream",
          "name": "stdout",
          "text": [
            "The value of a is 5\n"
          ]
        }
      ]
    },
    {
      "cell_type": "code",
      "metadata": {
        "id": "1BxvjJVd_toG",
        "colab": {
          "base_uri": "https://localhost:8080/"
        },
        "outputId": "3f37bfc7-f00e-4f0e-856f-3e605b23779a"
      },
      "source": [
        "print(1, 2, 3, 4)\n",
        "print(1, 2, 3, 4, sep='*')\n",
        "print(1, 2, 3, 4, sep='#', end='&')"
      ],
      "execution_count": null,
      "outputs": [
        {
          "output_type": "stream",
          "name": "stdout",
          "text": [
            "1 2 3 4\n",
            "1*2*3*4\n",
            "1#2#3#4&"
          ]
        }
      ]
    },
    {
      "cell_type": "markdown",
      "metadata": {
        "id": "otl0S-jx_7WP"
      },
      "source": [
        "## F-Strings\n",
        "A New and Improved Way to Format Strings in Python"
      ]
    },
    {
      "cell_type": "code",
      "metadata": {
        "id": "-FoFvg8-AIAN",
        "colab": {
          "base_uri": "https://localhost:8080/"
        },
        "outputId": "94241d03-d7ed-4bd4-d210-0f7d9a275ec6"
      },
      "source": [
        "name = \"Eric\"\n",
        "age = 74\n",
        "print(f\"Hello, {name}. You are {age}.\")"
      ],
      "execution_count": null,
      "outputs": [
        {
          "output_type": "stream",
          "name": "stdout",
          "text": [
            "Hello, Eric. You are 74.\n"
          ]
        }
      ]
    },
    {
      "cell_type": "markdown",
      "metadata": {
        "id": "b9v37WbA7ypG"
      },
      "source": [
        "## Python Input\n"
      ]
    },
    {
      "cell_type": "markdown",
      "metadata": {
        "id": "ipNlu8Cq70w5"
      },
      "source": [
        "Up until now, our programs were static. The value of variables was defined or hard coded into the source code.\n",
        "\n",
        "To allow flexibility, we might want to take the input from the user. In Python, we have the input() function to allow this. The syntax for input() is:"
      ]
    },
    {
      "cell_type": "code",
      "metadata": {
        "id": "kFcEQzC074Av",
        "colab": {
          "base_uri": "https://localhost:8080/"
        },
        "outputId": "f08392f0-d3b4-4d6c-ba32-89a8a66eeb72"
      },
      "source": [
        "num = input('Enter a number: ')"
      ],
      "execution_count": null,
      "outputs": [
        {
          "name": "stdout",
          "output_type": "stream",
          "text": [
            "Enter a number: \n"
          ]
        }
      ]
    }
  ]
}